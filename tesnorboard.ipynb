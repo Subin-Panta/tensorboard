{
  "nbformat": 4,
  "nbformat_minor": 0,
  "metadata": {
    "colab": {
      "name": "Untitled7.ipynb",
      "version": "0.3.2",
      "provenance": [],
      "collapsed_sections": [],
      "include_colab_link": true
    },
    "kernelspec": {
      "name": "python3",
      "display_name": "Python 3"
    }
  },
  "cells": [
    {
      "cell_type": "markdown",
      "metadata": {
        "id": "view-in-github",
        "colab_type": "text"
      },
      "source": [
        "<a href=\"https://colab.research.google.com/github/Subin-Panta/tensorboard/blob/master/tesnorboard.ipynb\" target=\"_parent\"><img src=\"https://colab.research.google.com/assets/colab-badge.svg\" alt=\"Open In Colab\"/></a>"
      ]
    },
    {
      "cell_type": "code",
      "metadata": {
        "id": "-VKYhqAPS7JC",
        "colab_type": "code",
        "colab": {}
      },
      "source": [
        "from google.colab import drive\n",
        "drive.mount('/content/gdrive')\n",
        "!ls 'gdrive/My Drive/'                                ##shows content\n"
      ],
      "execution_count": 0,
      "outputs": []
    },
    {
      "cell_type": "markdown",
      "metadata": {
        "id": "DoLyRuJDS8ef",
        "colab_type": "text"
      },
      "source": [
        "importing from google drive"
      ]
    },
    {
      "cell_type": "code",
      "metadata": {
        "id": "C-HLRXJwS7ox",
        "colab_type": "code",
        "colab": {}
      },
      "source": [
        "import numpy as np\n",
        "import matplotlib.pyplot as plt\n",
        "import os\n",
        "import cv2\n"
      ],
      "execution_count": 0,
      "outputs": []
    },
    {
      "cell_type": "code",
      "metadata": {
        "id": "5z9E7WhfTQKx",
        "colab_type": "code",
        "colab": {}
      },
      "source": [
        "DATADIR=”'gdrive/My Drive/Dogs and cats” ##data dir"
      ],
      "execution_count": 0,
      "outputs": []
    },
    {
      "cell_type": "code",
      "metadata": {
        "id": "RtR9AggiTVSg",
        "colab_type": "code",
        "colab": {}
      },
      "source": [
        "CATEGORIES=[“Dog”,”Cat”]\n",
        "for category in CATEGORIES:\n",
        "       path=os.path.join(DATADIR,category) #path to cats or dog directory\n",
        "       for img in os.listdir(path):             ##iterating through images\n",
        "         img_array=cv2.imread(os.path.join(path,img), cv2.IMREAD_GRAYSCALE)##fulll dir to the image\n",
        "\n"
      ],
      "execution_count": 0,
      "outputs": []
    },
    {
      "cell_type": "markdown",
      "metadata": {
        "id": "oeSqYvDLUDR_",
        "colab_type": "text"
      },
      "source": [
        "harek image lai grayscale ma convert garera euta image array ma rakheko"
      ]
    },
    {
      "cell_type": "code",
      "metadata": {
        "id": "_Q-6TicLT_f4",
        "colab_type": "code",
        "colab": {}
      },
      "source": [
        "IMG_SIZE=50\n",
        "new_array=cv2.resize(img_array,(IMG_SIZE, IMG_SIZE))\n",
        "training_data=[]"
      ],
      "execution_count": 0,
      "outputs": []
    },
    {
      "cell_type": "code",
      "metadata": {
        "id": "os-LgMvMT7Og",
        "colab_type": "code",
        "colab": {}
      },
      "source": [
        "def create_training_data():\n",
        "  for category in CATEGORIES:\n",
        "    path=os.path.join(DATADIR,category) #path to cats or dog directory  \n",
        "    class_num=CATEGORIES.index(category)#jun category ho tesko class_num chai tesko index value huncha\n",
        "    for img in os.listdir(path):\n",
        "      try:\n",
        "        img_array=cv2.imread(os.path.join(path,img), cv2.IMREAD_GRAYSCALE)##fulll dir to theimage\n",
        "        new_array=cv2.resize(img_array,(IMG_SIZE, IMG_SIZE)) \n",
        "        training_data.append([new_array,class_num])#training data ma image ra class_num which indicates whether the image is cat or dog\n",
        "      except exception as e:\n",
        "        pass                                        #yo chai broken data lai pass gareko\n"
      ],
      "execution_count": 0,
      "outputs": []
    },
    {
      "cell_type": "code",
      "metadata": {
        "id": "LKvwa36_VWn5",
        "colab_type": "code",
        "colab": {}
      },
      "source": [
        "create_training_data()"
      ],
      "execution_count": 0,
      "outputs": []
    },
    {
      "cell_type": "code",
      "metadata": {
        "id": "ZCfQimgcVa-x",
        "colab_type": "code",
        "colab": {}
      },
      "source": [
        "import random\n",
        "random.shuffle(training data)"
      ],
      "execution_count": 0,
      "outputs": []
    },
    {
      "cell_type": "markdown",
      "metadata": {
        "id": "Hq3PortTVgB_",
        "colab_type": "text"
      },
      "source": [
        "kina ki eutai pic diyera train garda dog dog matra predict garcha feir cat dida wrong bbhacna so cat ra dog lai random rup ma feed garera train garnu parcha"
      ]
    },
    {
      "cell_type": "code",
      "metadata": {
        "id": "mNtcDS-6VrXZ",
        "colab_type": "code",
        "colab": {}
      },
      "source": [
        "X=[] #capital x bhaneko feature set\n",
        "y=[] #small y bhaneko labels\n"
      ],
      "execution_count": 0,
      "outputs": []
    },
    {
      "cell_type": "code",
      "metadata": {
        "id": "O8yFobzAWKvY",
        "colab_type": "code",
        "colab": {}
      },
      "source": [
        "for features,label in traning_data:\n",
        "  X.append(features)\n",
        "  y.append(label)\n",
        "X=np.array(X).reshape(-1,IMG_SIZE,IMG_SIZE,1)"
      ],
      "execution_count": 0,
      "outputs": []
    },
    {
      "cell_type": "markdown",
      "metadata": {
        "id": "JhWvvRuIWl6g",
        "colab_type": "text"
      },
      "source": [
        "NEural network ma np.array lai pathaunu parcha -1 bhaneko feature ko size which is catch all 1bhaneko grayscale use garera RGB bhakobhaye 1 ko thau ma 3"
      ]
    },
    {
      "cell_type": "code",
      "metadata": {
        "id": "sPx9GQ6TWtKA",
        "colab_type": "code",
        "colab": {}
      },
      "source": [
        "import pickle\n",
        "pickle_out=open(\"X.pickle\",\"wb\")\n",
        "pickle.dump(X,pickle_out)\n",
        "pickle_out.close\n",
        "\n",
        "pickle_out=open(\"y.pickle\",\"wb\")\n",
        "pickle.dump(y,pickle_out)\n",
        "pickle_out.close\n"
      ],
      "execution_count": 0,
      "outputs": []
    },
    {
      "cell_type": "markdown",
      "metadata": {
        "id": "i6wN9v74XDuR",
        "colab_type": "text"
      },
      "source": [
        "saving the training data\n"
      ]
    },
    {
      "cell_type": "code",
      "metadata": {
        "id": "yjOb0kH8XD8j",
        "colab_type": "code",
        "colab": {}
      },
      "source": [
        "pickle_in=open(\"X.pickle\",\"rb\")\n",
        "X=pickle.load(pickle_in)\n",
        "pickle_in=open(\"y.pickle\",\"rb\")\n",
        "y=pickle.load(pickle_in)"
      ],
      "execution_count": 0,
      "outputs": []
    },
    {
      "cell_type": "markdown",
      "metadata": {
        "id": "AI9WT11kX_aq",
        "colab_type": "text"
      },
      "source": [
        "loading the training data"
      ]
    },
    {
      "cell_type": "code",
      "metadata": {
        "id": "1ezBJYL0XELP",
        "colab_type": "code",
        "colab": {}
      },
      "source": [
        "\n"
      ],
      "execution_count": 0,
      "outputs": []
    },
    {
      "cell_type": "code",
      "metadata": {
        "id": "iQmrn11SXEeR",
        "colab_type": "code",
        "colab": {}
      },
      "source": [
        "\n"
      ],
      "execution_count": 0,
      "outputs": []
    },
    {
      "cell_type": "code",
      "metadata": {
        "id": "uKijbTiOXEn4",
        "colab_type": "code",
        "colab": {}
      },
      "source": [
        "\n",
        "\n"
      ],
      "execution_count": 0,
      "outputs": []
    },
    {
      "cell_type": "code",
      "metadata": {
        "id": "jT_ihRKYXEzh",
        "colab_type": "code",
        "colab": {}
      },
      "source": [
        ""
      ],
      "execution_count": 0,
      "outputs": []
    }
  ]
}